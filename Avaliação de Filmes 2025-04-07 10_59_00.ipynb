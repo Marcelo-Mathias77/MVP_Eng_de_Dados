{
 "cells": [
  {
   "cell_type": "markdown",
   "metadata": {
    "application/vnd.databricks.v1+cell": {
     "cellMetadata": {
      "byteLimit": 2048000,
      "rowLimit": 10000
     },
     "inputWidgets": {},
     "nuid": "19748d8e-2410-4845-bf99-14c943469cb2",
     "showTitle": false,
     "tableResultSettingsMap": {},
     "title": ""
    }
   },
   "source": [
    "MVP da Disciplina Engenharia de Dados\n",
    "\n",
    "Aluno: Marcelo Chagas Mathias Netto"
   ]
  },
  {
   "cell_type": "code",
   "execution_count": 0,
   "metadata": {
    "application/vnd.databricks.v1+cell": {
     "cellMetadata": {
      "byteLimit": 2048000,
      "rowLimit": 10000
     },
     "inputWidgets": {},
     "nuid": "dfd5a89d-e714-4c4e-b897-4aeb2086b913",
     "showTitle": false,
     "tableResultSettingsMap": {},
     "title": "Dataset selecionado"
    }
   },
   "outputs": [
    {
     "output_type": "display_data",
     "data": {
      "text/html": [
       "<style scoped>\n",
       "  .table-result-container {\n",
       "    max-height: 300px;\n",
       "    overflow: auto;\n",
       "  }\n",
       "  table, th, td {\n",
       "    border: 1px solid black;\n",
       "    border-collapse: collapse;\n",
       "  }\n",
       "  th, td {\n",
       "    padding: 5px;\n",
       "  }\n",
       "  th {\n",
       "    text-align: left;\n",
       "  }\n",
       "</style><div class='table-result-container'><table class='table-result'><thead style='background-color: white'><tr><th>path</th><th>name</th><th>size</th><th>modificationTime</th></tr></thead><tbody><tr><td>dbfs:/databricks-datasets/cs100/lab4/data-001/movies.dat</td><td>movies.dat</td><td>171308</td><td>1455234596000</td></tr><tr><td>dbfs:/databricks-datasets/cs100/lab4/data-001/ratings.dat.gz</td><td>ratings.dat.gz</td><td>2837683</td><td>1455234597000</td></tr></tbody></table></div>"
      ]
     },
     "metadata": {
      "application/vnd.databricks.v1+output": {
       "addedWidgets": {},
       "aggData": [],
       "aggError": "",
       "aggOverflow": false,
       "aggSchema": [],
       "aggSeriesLimitReached": false,
       "aggType": "",
       "arguments": {},
       "columnCustomDisplayInfos": {},
       "data": [
        [
         "dbfs:/databricks-datasets/cs100/lab4/data-001/movies.dat",
         "movies.dat",
         171308,
         1455234596000
        ],
        [
         "dbfs:/databricks-datasets/cs100/lab4/data-001/ratings.dat.gz",
         "ratings.dat.gz",
         2837683,
         1455234597000
        ]
       ],
       "datasetInfos": [],
       "dbfsResultPath": null,
       "isJsonSchema": true,
       "metadata": {},
       "overflow": false,
       "plotOptions": {
        "customPlotOptions": {},
        "displayType": "table",
        "pivotAggregation": null,
        "pivotColumns": null,
        "xColumns": null,
        "yColumns": null
       },
       "removedWidgets": [],
       "schema": [
        {
         "metadata": "{}",
         "name": "path",
         "type": "\"string\""
        },
        {
         "metadata": "{}",
         "name": "name",
         "type": "\"string\""
        },
        {
         "metadata": "{}",
         "name": "size",
         "type": "\"long\""
        },
        {
         "metadata": "{}",
         "name": "modificationTime",
         "type": "\"long\""
        }
       ],
       "type": "table"
      }
     },
     "output_type": "display_data"
    }
   ],
   "source": [
    "display(dbutils.fs.ls('dbfs:/databricks-datasets/cs100/lab4/data-001/'))"
   ]
  },
  {
   "cell_type": "code",
   "execution_count": 0,
   "metadata": {
    "application/vnd.databricks.v1+cell": {
     "cellMetadata": {
      "byteLimit": 2048000,
      "rowLimit": 10000
     },
     "inputWidgets": {},
     "nuid": "c5f538b1-bf39-41b9-9d59-c36b7aa2e17c",
     "showTitle": true,
     "tableResultSettingsMap": {},
     "title": "Identificando o delimitador do dataset Movies"
    }
   },
   "outputs": [
    {
     "output_type": "stream",
     "name": "stdout",
     "output_type": "stream",
     "text": [
      "[Truncated to first 100 bytes]\nOut[34]: \"1::Toy Story (1995)::Animation|Children's|Comedy\\n2::Jumanji (1995)::Adventure|Children's|Fantasy\\n3::\""
     ]
    }
   ],
   "source": [
    "# Exibir algumas linhas do arquivo\n",
    "dbutils.fs.head(\"dbfs:/databricks-datasets/cs100/lab4/data-001/movies.dat\", 100)"
   ]
  },
  {
   "cell_type": "code",
   "execution_count": 0,
   "metadata": {
    "application/vnd.databricks.v1+cell": {
     "cellMetadata": {
      "byteLimit": 2048000,
      "rowLimit": 10000
     },
     "inputWidgets": {},
     "nuid": "8dce750e-4899-4fdb-b6bc-d17d8d0c07d7",
     "showTitle": true,
     "tableResultSettingsMap": {},
     "title": "Lendo o arquivos movies"
    }
   },
   "outputs": [
    {
     "output_type": "stream",
     "name": "stdout",
     "output_type": "stream",
     "text": [
      "+-------+----------------------------------+----------------------------+\n|movieId|title                             |genres                      |\n+-------+----------------------------------+----------------------------+\n|1      |Toy Story (1995)                  |Animation|Children's|Comedy |\n|2      |Jumanji (1995)                    |Adventure|Children's|Fantasy|\n|3      |Grumpier Old Men (1995)           |Comedy|Romance              |\n|4      |Waiting to Exhale (1995)          |Comedy|Drama                |\n|5      |Father of the Bride Part II (1995)|Comedy                      |\n+-------+----------------------------------+----------------------------+\nonly showing top 5 rows\n\n"
     ]
    }
   ],
   "source": [
    "arquivo = \"dbfs:/databricks-datasets/cs100/lab4/data-001/movies.dat\"\n",
    "\n",
    "# Ler o arquivo usando '::' como delimitador\n",
    "movies_spark_df = spark.read.option(\"delimiter\", \"::\").csv(arquivo, inferSchema=True, header=False)\n",
    "\n",
    "# Renomear as colunas\n",
    "movies_spark_df = movies_spark_df.withColumnRenamed(\"_c0\", \"movieId\") \\\n",
    "       .withColumnRenamed(\"_c1\", \"title\") \\\n",
    "       .withColumnRenamed(\"_c2\", \"genres\")\n",
    "\n",
    "# Mostrar os primeiros registros\n",
    "movies_spark_df.show(5, truncate=False)"
   ]
  },
  {
   "cell_type": "code",
   "execution_count": 0,
   "metadata": {
    "application/vnd.databricks.v1+cell": {
     "cellMetadata": {
      "byteLimit": 2048000,
      "rowLimit": 10000
     },
     "inputWidgets": {},
     "nuid": "a171b0b4-daa7-4553-91cd-4824aa3ea813",
     "showTitle": true,
     "tableResultSettingsMap": {},
     "title": "Verificando o tipo dos dados dataset movies"
    }
   },
   "outputs": [
    {
     "output_type": "stream",
     "name": "stdout",
     "output_type": "stream",
     "text": [
      "root\n |-- movieId: integer (nullable = true)\n |-- title: string (nullable = true)\n |-- genres: string (nullable = true)\n\n"
     ]
    }
   ],
   "source": [
    "# Tipo dos dados - Movies\n",
    "movies_spark_df.printSchema()"
   ]
  },
  {
   "cell_type": "code",
   "execution_count": 0,
   "metadata": {
    "application/vnd.databricks.v1+cell": {
     "cellMetadata": {
      "byteLimit": 2048000,
      "rowLimit": 10000
     },
     "inputWidgets": {},
     "nuid": "0326fd79-e205-422f-b8e2-c6997755efd3",
     "showTitle": true,
     "tableResultSettingsMap": {},
     "title": "Lendo o arquivo ratings"
    }
   },
   "outputs": [
    {
     "output_type": "stream",
     "name": "stdout",
     "output_type": "stream",
     "text": [
      "+------+-------+------+---------+\n|userId|movieId|rating|timestamp|\n+------+-------+------+---------+\n|     1|   1193|     5|978300760|\n|     1|    661|     3|978302109|\n|     1|    914|     3|978301968|\n|     1|   3408|     4|978300275|\n|     1|   2355|     5|978824291|\n+------+-------+------+---------+\nonly showing top 5 rows\n\n"
     ]
    }
   ],
   "source": [
    "arquivo = \"dbfs:/databricks-datasets/cs100/lab4/data-001/ratings.dat.gz\"\n",
    "\n",
    "# Ler o arquivo com o delimitador \"::\"\n",
    "ratings_spark_df = spark.read.option(\"delimiter\", \"::\").csv(arquivo, inferSchema=True, header=False)\n",
    "\n",
    "# Renomear colunas para um formato mais claro\n",
    "ratings_spark_df = ratings_spark_df.withColumnRenamed(\"_c0\", \"userId\") \\\n",
    "       .withColumnRenamed(\"_c1\", \"movieId\") \\\n",
    "       .withColumnRenamed(\"_c2\", \"rating\") \\\n",
    "       .withColumnRenamed(\"_c3\", \"timestamp\")\n",
    "\n",
    "# Exibir as 5 primeiras linhas\n",
    "ratings_spark_df.show(5)"
   ]
  },
  {
   "cell_type": "code",
   "execution_count": 0,
   "metadata": {
    "application/vnd.databricks.v1+cell": {
     "cellMetadata": {
      "byteLimit": 2048000,
      "rowLimit": 10000
     },
     "inputWidgets": {},
     "nuid": "a872e9d2-f111-4ba0-b255-898c9bdfb27a",
     "showTitle": true,
     "tableResultSettingsMap": {},
     "title": "Verificando o tipo dos dados dataset ratings"
    }
   },
   "outputs": [
    {
     "output_type": "stream",
     "name": "stdout",
     "output_type": "stream",
     "text": [
      "root\n |-- userId: integer (nullable = true)\n |-- movieId: integer (nullable = true)\n |-- rating: integer (nullable = true)\n |-- timestamp: integer (nullable = true)\n\n"
     ]
    }
   ],
   "source": [
    "# Tipo dos dados - Ratings\n",
    "ratings_spark_df.printSchema()"
   ]
  },
  {
   "cell_type": "code",
   "execution_count": 0,
   "metadata": {
    "application/vnd.databricks.v1+cell": {
     "cellMetadata": {
      "byteLimit": 2048000,
      "implicitDf": true,
      "rowLimit": 10000
     },
     "inputWidgets": {},
     "nuid": "01ad8a39-a621-4bd4-87ba-a3102c5e5fba",
     "showTitle": true,
     "tableResultSettingsMap": {},
     "title": "Apagando o database 'bronze' para ser recriado"
    }
   },
   "outputs": [
    {
     "output_type": "display_data",
     "data": {
      "text/html": [
       "<style scoped>\n",
       "  .table-result-container {\n",
       "    max-height: 300px;\n",
       "    overflow: auto;\n",
       "  }\n",
       "  table, th, td {\n",
       "    border: 1px solid black;\n",
       "    border-collapse: collapse;\n",
       "  }\n",
       "  th, td {\n",
       "    padding: 5px;\n",
       "  }\n",
       "  th {\n",
       "    text-align: left;\n",
       "  }\n",
       "</style><div class='table-result-container'><table class='table-result'><thead style='background-color: white'><tr></tr></thead><tbody></tbody></table></div>"
      ]
     },
     "metadata": {
      "application/vnd.databricks.v1+output": {
       "addedWidgets": {},
       "aggData": [],
       "aggError": "",
       "aggOverflow": false,
       "aggSchema": [],
       "aggSeriesLimitReached": false,
       "aggType": "",
       "arguments": {},
       "columnCustomDisplayInfos": {},
       "data": [],
       "datasetInfos": [],
       "dbfsResultPath": null,
       "isJsonSchema": true,
       "metadata": {},
       "overflow": false,
       "plotOptions": {
        "customPlotOptions": {},
        "displayType": "table",
        "pivotAggregation": null,
        "pivotColumns": null,
        "xColumns": null,
        "yColumns": null
       },
       "removedWidgets": [],
       "schema": [],
       "type": "table"
      }
     },
     "output_type": "display_data"
    }
   ],
   "source": [
    "%sql DROP DATABASE bronze CASCADE"
   ]
  },
  {
   "cell_type": "code",
   "execution_count": 0,
   "metadata": {
    "application/vnd.databricks.v1+cell": {
     "cellMetadata": {
      "byteLimit": 2048000,
      "implicitDf": true,
      "rowLimit": 10000
     },
     "inputWidgets": {},
     "nuid": "1bbfcc30-24bd-4aaf-9ee2-b35f3931083a",
     "showTitle": true,
     "tableResultSettingsMap": {},
     "title": "Recriando o database 'bronze'"
    }
   },
   "outputs": [
    {
     "output_type": "display_data",
     "data": {
      "text/html": [
       "<style scoped>\n",
       "  .table-result-container {\n",
       "    max-height: 300px;\n",
       "    overflow: auto;\n",
       "  }\n",
       "  table, th, td {\n",
       "    border: 1px solid black;\n",
       "    border-collapse: collapse;\n",
       "  }\n",
       "  th, td {\n",
       "    padding: 5px;\n",
       "  }\n",
       "  th {\n",
       "    text-align: left;\n",
       "  }\n",
       "</style><div class='table-result-container'><table class='table-result'><thead style='background-color: white'><tr></tr></thead><tbody></tbody></table></div>"
      ]
     },
     "metadata": {
      "application/vnd.databricks.v1+output": {
       "addedWidgets": {},
       "aggData": [],
       "aggError": "",
       "aggOverflow": false,
       "aggSchema": [],
       "aggSeriesLimitReached": false,
       "aggType": "",
       "arguments": {},
       "columnCustomDisplayInfos": {},
       "data": [],
       "datasetInfos": [],
       "dbfsResultPath": null,
       "isJsonSchema": true,
       "metadata": {},
       "overflow": false,
       "plotOptions": {
        "customPlotOptions": {},
        "displayType": "table",
        "pivotAggregation": null,
        "pivotColumns": null,
        "xColumns": null,
        "yColumns": null
       },
       "removedWidgets": [],
       "schema": [],
       "type": "table"
      }
     },
     "output_type": "display_data"
    }
   ],
   "source": [
    "%sql CREATE DATABASE bronze;"
   ]
  },
  {
   "cell_type": "code",
   "execution_count": 0,
   "metadata": {
    "application/vnd.databricks.v1+cell": {
     "cellMetadata": {
      "byteLimit": 2048000,
      "rowLimit": 10000
     },
     "inputWidgets": {},
     "nuid": "a83d3492-11a1-4906-bd86-85ca3b359937",
     "showTitle": true,
     "tableResultSettingsMap": {},
     "title": "Criação da tabela bronze Movies"
    }
   },
   "outputs": [],
   "source": [
    "movies_spark_df.write.mode(\"overwrite\").saveAsTable(\"bronze.movies\")"
   ]
  },
  {
   "cell_type": "code",
   "execution_count": 0,
   "metadata": {
    "application/vnd.databricks.v1+cell": {
     "cellMetadata": {
      "byteLimit": 2048000,
      "rowLimit": 10000
     },
     "inputWidgets": {},
     "nuid": "57f37232-1e2d-43a1-8d4b-90cf00522095",
     "showTitle": true,
     "tableResultSettingsMap": {},
     "title": "Criação da tabela bronze Ratings"
    }
   },
   "outputs": [],
   "source": [
    "ratings_spark_df.write.mode(\"overwrite\").saveAsTable(\"bronze.ratings\")"
   ]
  },
  {
   "cell_type": "code",
   "execution_count": 0,
   "metadata": {
    "application/vnd.databricks.v1+cell": {
     "cellMetadata": {
      "byteLimit": 2048000,
      "implicitDf": true,
      "rowLimit": 10000
     },
     "inputWidgets": {},
     "nuid": "e719695a-8c00-47b9-923b-a571c0e51eba",
     "showTitle": true,
     "tableResultSettingsMap": {},
     "title": "Verificando os dados da tabela bronze movies"
    }
   },
   "outputs": [
    {
     "output_type": "display_data",
     "data": {
      "text/html": [
       "<style scoped>\n",
       "  .table-result-container {\n",
       "    max-height: 300px;\n",
       "    overflow: auto;\n",
       "  }\n",
       "  table, th, td {\n",
       "    border: 1px solid black;\n",
       "    border-collapse: collapse;\n",
       "  }\n",
       "  th, td {\n",
       "    padding: 5px;\n",
       "  }\n",
       "  th {\n",
       "    text-align: left;\n",
       "  }\n",
       "</style><div class='table-result-container'><table class='table-result'><thead style='background-color: white'><tr><th>movieId</th><th>title</th><th>genres</th></tr></thead><tbody><tr><td>1</td><td>Toy Story (1995)</td><td>Animation|Children's|Comedy</td></tr><tr><td>2</td><td>Jumanji (1995)</td><td>Adventure|Children's|Fantasy</td></tr><tr><td>3</td><td>Grumpier Old Men (1995)</td><td>Comedy|Romance</td></tr><tr><td>4</td><td>Waiting to Exhale (1995)</td><td>Comedy|Drama</td></tr><tr><td>5</td><td>Father of the Bride Part II (1995)</td><td>Comedy</td></tr><tr><td>6</td><td>Heat (1995)</td><td>Action|Crime|Thriller</td></tr><tr><td>7</td><td>Sabrina (1995)</td><td>Comedy|Romance</td></tr><tr><td>8</td><td>Tom and Huck (1995)</td><td>Adventure|Children's</td></tr><tr><td>9</td><td>Sudden Death (1995)</td><td>Action</td></tr><tr><td>10</td><td>GoldenEye (1995)</td><td>Action|Adventure|Thriller</td></tr></tbody></table></div>"
      ]
     },
     "metadata": {
      "application/vnd.databricks.v1+output": {
       "addedWidgets": {},
       "aggData": [],
       "aggError": "",
       "aggOverflow": false,
       "aggSchema": [],
       "aggSeriesLimitReached": false,
       "aggType": "",
       "arguments": {},
       "columnCustomDisplayInfos": {},
       "data": [
        [
         1,
         "Toy Story (1995)",
         "Animation|Children's|Comedy"
        ],
        [
         2,
         "Jumanji (1995)",
         "Adventure|Children's|Fantasy"
        ],
        [
         3,
         "Grumpier Old Men (1995)",
         "Comedy|Romance"
        ],
        [
         4,
         "Waiting to Exhale (1995)",
         "Comedy|Drama"
        ],
        [
         5,
         "Father of the Bride Part II (1995)",
         "Comedy"
        ],
        [
         6,
         "Heat (1995)",
         "Action|Crime|Thriller"
        ],
        [
         7,
         "Sabrina (1995)",
         "Comedy|Romance"
        ],
        [
         8,
         "Tom and Huck (1995)",
         "Adventure|Children's"
        ],
        [
         9,
         "Sudden Death (1995)",
         "Action"
        ],
        [
         10,
         "GoldenEye (1995)",
         "Action|Adventure|Thriller"
        ]
       ],
       "datasetInfos": [],
       "dbfsResultPath": null,
       "isJsonSchema": true,
       "metadata": {},
       "overflow": false,
       "plotOptions": {
        "customPlotOptions": {},
        "displayType": "table",
        "pivotAggregation": null,
        "pivotColumns": null,
        "xColumns": null,
        "yColumns": null
       },
       "removedWidgets": [],
       "schema": [
        {
         "metadata": "{}",
         "name": "movieId",
         "type": "\"integer\""
        },
        {
         "metadata": "{}",
         "name": "title",
         "type": "\"string\""
        },
        {
         "metadata": "{}",
         "name": "genres",
         "type": "\"string\""
        }
       ],
       "type": "table"
      }
     },
     "output_type": "display_data"
    }
   ],
   "source": [
    "%sql SELECT * FROM bronze.movies LIMIT 10"
   ]
  },
  {
   "cell_type": "code",
   "execution_count": 0,
   "metadata": {
    "application/vnd.databricks.v1+cell": {
     "cellMetadata": {
      "byteLimit": 2048000,
      "implicitDf": true,
      "rowLimit": 10000
     },
     "inputWidgets": {},
     "nuid": "33b920bc-1f8e-4ef4-9624-2da62cc874ff",
     "showTitle": true,
     "tableResultSettingsMap": {},
     "title": "Verificando os dados da tabela bronze ratings"
    }
   },
   "outputs": [
    {
     "output_type": "display_data",
     "data": {
      "text/html": [
       "<style scoped>\n",
       "  .table-result-container {\n",
       "    max-height: 300px;\n",
       "    overflow: auto;\n",
       "  }\n",
       "  table, th, td {\n",
       "    border: 1px solid black;\n",
       "    border-collapse: collapse;\n",
       "  }\n",
       "  th, td {\n",
       "    padding: 5px;\n",
       "  }\n",
       "  th {\n",
       "    text-align: left;\n",
       "  }\n",
       "</style><div class='table-result-container'><table class='table-result'><thead style='background-color: white'><tr><th>userId</th><th>movieId</th><th>rating</th><th>timestamp</th></tr></thead><tbody><tr><td>1</td><td>1193</td><td>5</td><td>978300760</td></tr><tr><td>1</td><td>661</td><td>3</td><td>978302109</td></tr><tr><td>1</td><td>914</td><td>3</td><td>978301968</td></tr><tr><td>1</td><td>3408</td><td>4</td><td>978300275</td></tr><tr><td>1</td><td>2355</td><td>5</td><td>978824291</td></tr><tr><td>1</td><td>1197</td><td>3</td><td>978302268</td></tr><tr><td>1</td><td>1287</td><td>5</td><td>978302039</td></tr><tr><td>1</td><td>2804</td><td>5</td><td>978300719</td></tr><tr><td>1</td><td>594</td><td>4</td><td>978302268</td></tr><tr><td>1</td><td>919</td><td>4</td><td>978301368</td></tr></tbody></table></div>"
      ]
     },
     "metadata": {
      "application/vnd.databricks.v1+output": {
       "addedWidgets": {},
       "aggData": [],
       "aggError": "",
       "aggOverflow": false,
       "aggSchema": [],
       "aggSeriesLimitReached": false,
       "aggType": "",
       "arguments": {},
       "columnCustomDisplayInfos": {},
       "data": [
        [
         1,
         1193,
         5,
         978300760
        ],
        [
         1,
         661,
         3,
         978302109
        ],
        [
         1,
         914,
         3,
         978301968
        ],
        [
         1,
         3408,
         4,
         978300275
        ],
        [
         1,
         2355,
         5,
         978824291
        ],
        [
         1,
         1197,
         3,
         978302268
        ],
        [
         1,
         1287,
         5,
         978302039
        ],
        [
         1,
         2804,
         5,
         978300719
        ],
        [
         1,
         594,
         4,
         978302268
        ],
        [
         1,
         919,
         4,
         978301368
        ]
       ],
       "datasetInfos": [],
       "dbfsResultPath": null,
       "isJsonSchema": true,
       "metadata": {},
       "overflow": false,
       "plotOptions": {
        "customPlotOptions": {},
        "displayType": "table",
        "pivotAggregation": null,
        "pivotColumns": null,
        "xColumns": null,
        "yColumns": null
       },
       "removedWidgets": [],
       "schema": [
        {
         "metadata": "{}",
         "name": "userId",
         "type": "\"integer\""
        },
        {
         "metadata": "{}",
         "name": "movieId",
         "type": "\"integer\""
        },
        {
         "metadata": "{}",
         "name": "rating",
         "type": "\"integer\""
        },
        {
         "metadata": "{}",
         "name": "timestamp",
         "type": "\"integer\""
        }
       ],
       "type": "table"
      }
     },
     "output_type": "display_data"
    }
   ],
   "source": [
    "%sql SELECT * FROM bronze.ratings LIMIT 10"
   ]
  },
  {
   "cell_type": "code",
   "execution_count": 0,
   "metadata": {
    "application/vnd.databricks.v1+cell": {
     "cellMetadata": {
      "byteLimit": 2048000,
      "implicitDf": true,
      "rowLimit": 10000
     },
     "inputWidgets": {},
     "nuid": "e3d83ebb-6e63-49ea-9eb0-dcec327a2534",
     "showTitle": true,
     "tableResultSettingsMap": {},
     "title": "Apagando o database 'silver' para ser recriado"
    }
   },
   "outputs": [
    {
     "output_type": "display_data",
     "data": {
      "text/html": [
       "<style scoped>\n",
       "  .table-result-container {\n",
       "    max-height: 300px;\n",
       "    overflow: auto;\n",
       "  }\n",
       "  table, th, td {\n",
       "    border: 1px solid black;\n",
       "    border-collapse: collapse;\n",
       "  }\n",
       "  th, td {\n",
       "    padding: 5px;\n",
       "  }\n",
       "  th {\n",
       "    text-align: left;\n",
       "  }\n",
       "</style><div class='table-result-container'><table class='table-result'><thead style='background-color: white'><tr></tr></thead><tbody></tbody></table></div>"
      ]
     },
     "metadata": {
      "application/vnd.databricks.v1+output": {
       "addedWidgets": {},
       "aggData": [],
       "aggError": "",
       "aggOverflow": false,
       "aggSchema": [],
       "aggSeriesLimitReached": false,
       "aggType": "",
       "arguments": {},
       "columnCustomDisplayInfos": {},
       "data": [],
       "datasetInfos": [],
       "dbfsResultPath": null,
       "isJsonSchema": true,
       "metadata": {},
       "overflow": false,
       "plotOptions": {
        "customPlotOptions": {},
        "displayType": "table",
        "pivotAggregation": null,
        "pivotColumns": null,
        "xColumns": null,
        "yColumns": null
       },
       "removedWidgets": [],
       "schema": [],
       "type": "table"
      }
     },
     "output_type": "display_data"
    }
   ],
   "source": [
    "%sql DROP DATABASE silver CASCADE"
   ]
  },
  {
   "cell_type": "code",
   "execution_count": 0,
   "metadata": {
    "application/vnd.databricks.v1+cell": {
     "cellMetadata": {
      "byteLimit": 2048000,
      "implicitDf": true,
      "rowLimit": 10000
     },
     "inputWidgets": {},
     "nuid": "114dda94-eb04-4850-abc4-e67eac1b3a0a",
     "showTitle": true,
     "tableResultSettingsMap": {},
     "title": "Recriando o database 'silver'"
    }
   },
   "outputs": [
    {
     "output_type": "display_data",
     "data": {
      "text/html": [
       "<style scoped>\n",
       "  .table-result-container {\n",
       "    max-height: 300px;\n",
       "    overflow: auto;\n",
       "  }\n",
       "  table, th, td {\n",
       "    border: 1px solid black;\n",
       "    border-collapse: collapse;\n",
       "  }\n",
       "  th, td {\n",
       "    padding: 5px;\n",
       "  }\n",
       "  th {\n",
       "    text-align: left;\n",
       "  }\n",
       "</style><div class='table-result-container'><table class='table-result'><thead style='background-color: white'><tr></tr></thead><tbody></tbody></table></div>"
      ]
     },
     "metadata": {
      "application/vnd.databricks.v1+output": {
       "addedWidgets": {},
       "aggData": [],
       "aggError": "",
       "aggOverflow": false,
       "aggSchema": [],
       "aggSeriesLimitReached": false,
       "aggType": "",
       "arguments": {},
       "columnCustomDisplayInfos": {},
       "data": [],
       "datasetInfos": [],
       "dbfsResultPath": null,
       "isJsonSchema": true,
       "metadata": {},
       "overflow": false,
       "plotOptions": {
        "customPlotOptions": {},
        "displayType": "table",
        "pivotAggregation": null,
        "pivotColumns": null,
        "xColumns": null,
        "yColumns": null
       },
       "removedWidgets": [],
       "schema": [],
       "type": "table"
      }
     },
     "output_type": "display_data"
    }
   ],
   "source": [
    "%sql CREATE DATABASE silver;"
   ]
  },
  {
   "cell_type": "code",
   "execution_count": 0,
   "metadata": {
    "application/vnd.databricks.v1+cell": {
     "cellMetadata": {
      "byteLimit": 2048000,
      "rowLimit": 10000
     },
     "inputWidgets": {},
     "nuid": "db67f16c-489e-4bf6-9562-8111b716be45",
     "showTitle": true,
     "tableResultSettingsMap": {},
     "title": "Criação da tabela silver Movies"
    }
   },
   "outputs": [],
   "source": [
    "movies_spark_df.write.mode(\"overwrite\").saveAsTable(\"silver.movies\")"
   ]
  },
  {
   "cell_type": "code",
   "execution_count": 0,
   "metadata": {
    "application/vnd.databricks.v1+cell": {
     "cellMetadata": {
      "byteLimit": 2048000,
      "rowLimit": 10000
     },
     "inputWidgets": {},
     "nuid": "4e716290-c0bf-4399-8d73-29d8e9db2cc0",
     "showTitle": true,
     "tableResultSettingsMap": {},
     "title": "Criação da tabela silver Ratings"
    }
   },
   "outputs": [],
   "source": [
    "ratings_spark_df.write.mode(\"overwrite\").saveAsTable(\"silver.ratings\")"
   ]
  },
  {
   "cell_type": "code",
   "execution_count": 0,
   "metadata": {
    "application/vnd.databricks.v1+cell": {
     "cellMetadata": {
      "byteLimit": 2048000,
      "implicitDf": true,
      "rowLimit": 10000
     },
     "inputWidgets": {},
     "nuid": "ef1ee36f-412e-49eb-8d85-a09c36ca88a2",
     "showTitle": true,
     "tableResultSettingsMap": {},
     "title": "Data Quality dataframe Movies"
    }
   },
   "outputs": [
    {
     "output_type": "display_data",
     "data": {
      "text/html": [
       "<style scoped>\n",
       "  .table-result-container {\n",
       "    max-height: 300px;\n",
       "    overflow: auto;\n",
       "  }\n",
       "  table, th, td {\n",
       "    border: 1px solid black;\n",
       "    border-collapse: collapse;\n",
       "  }\n",
       "  th, td {\n",
       "    padding: 5px;\n",
       "  }\n",
       "  th {\n",
       "    text-align: left;\n",
       "  }\n",
       "</style><div class='table-result-container'><table class='table-result'><thead style='background-color: white'><tr><th>null_count_movieId</th><th>null_count_title</th><th>null_count_genres</th></tr></thead><tbody><tr><td>0</td><td>0</td><td>0</td></tr></tbody></table></div>"
      ]
     },
     "metadata": {
      "application/vnd.databricks.v1+output": {
       "addedWidgets": {},
       "aggData": [],
       "aggError": "",
       "aggOverflow": false,
       "aggSchema": [],
       "aggSeriesLimitReached": false,
       "aggType": "",
       "arguments": {},
       "columnCustomDisplayInfos": {},
       "data": [
        [
         0,
         0,
         0
        ]
       ],
       "datasetInfos": [],
       "dbfsResultPath": null,
       "isJsonSchema": true,
       "metadata": {},
       "overflow": false,
       "plotOptions": {
        "customPlotOptions": {},
        "displayType": "table",
        "pivotAggregation": null,
        "pivotColumns": null,
        "xColumns": null,
        "yColumns": null
       },
       "removedWidgets": [],
       "schema": [
        {
         "metadata": "{}",
         "name": "null_count_movieId",
         "type": "\"long\""
        },
        {
         "metadata": "{}",
         "name": "null_count_title",
         "type": "\"long\""
        },
        {
         "metadata": "{}",
         "name": "null_count_genres",
         "type": "\"long\""
        }
       ],
       "type": "table"
      }
     },
     "output_type": "display_data"
    }
   ],
   "source": [
    "%sql\n",
    "SELECT \n",
    "    COUNT(CASE WHEN movieId IS NULL THEN 1 END) AS null_count_movieId,\n",
    "    COUNT(CASE WHEN title IS NULL THEN 1 END) AS null_count_title,\n",
    "    COUNT(CASE WHEN genres IS NULL THEN 1 END) AS null_count_genres\n",
    "FROM silver.movies;"
   ]
  },
  {
   "cell_type": "code",
   "execution_count": 0,
   "metadata": {
    "application/vnd.databricks.v1+cell": {
     "cellMetadata": {
      "byteLimit": 2048000,
      "implicitDf": true,
      "rowLimit": 10000
     },
     "inputWidgets": {},
     "nuid": "182ca002-256e-4bb3-a39b-24dfba3b4ba1",
     "showTitle": true,
     "tableResultSettingsMap": {},
     "title": "Data Quality dataframe Ratings"
    }
   },
   "outputs": [
    {
     "output_type": "display_data",
     "data": {
      "text/html": [
       "<style scoped>\n",
       "  .table-result-container {\n",
       "    max-height: 300px;\n",
       "    overflow: auto;\n",
       "  }\n",
       "  table, th, td {\n",
       "    border: 1px solid black;\n",
       "    border-collapse: collapse;\n",
       "  }\n",
       "  th, td {\n",
       "    padding: 5px;\n",
       "  }\n",
       "  th {\n",
       "    text-align: left;\n",
       "  }\n",
       "</style><div class='table-result-container'><table class='table-result'><thead style='background-color: white'><tr><th>null_count_userId</th><th>null_count_movieId</th><th>null_count_rating</th><th>null_count_timestamp</th></tr></thead><tbody><tr><td>0</td><td>0</td><td>0</td><td>0</td></tr></tbody></table></div>"
      ]
     },
     "metadata": {
      "application/vnd.databricks.v1+output": {
       "addedWidgets": {},
       "aggData": [],
       "aggError": "",
       "aggOverflow": false,
       "aggSchema": [],
       "aggSeriesLimitReached": false,
       "aggType": "",
       "arguments": {},
       "columnCustomDisplayInfos": {},
       "data": [
        [
         0,
         0,
         0,
         0
        ]
       ],
       "datasetInfos": [],
       "dbfsResultPath": null,
       "isJsonSchema": true,
       "metadata": {},
       "overflow": false,
       "plotOptions": {
        "customPlotOptions": {},
        "displayType": "table",
        "pivotAggregation": null,
        "pivotColumns": null,
        "xColumns": null,
        "yColumns": null
       },
       "removedWidgets": [],
       "schema": [
        {
         "metadata": "{}",
         "name": "null_count_userId",
         "type": "\"long\""
        },
        {
         "metadata": "{}",
         "name": "null_count_movieId",
         "type": "\"long\""
        },
        {
         "metadata": "{}",
         "name": "null_count_rating",
         "type": "\"long\""
        },
        {
         "metadata": "{}",
         "name": "null_count_timestamp",
         "type": "\"long\""
        }
       ],
       "type": "table"
      }
     },
     "output_type": "display_data"
    }
   ],
   "source": [
    "%sql\n",
    "SELECT \n",
    "    COUNT(CASE WHEN userId IS NULL THEN 1 END) AS null_count_userId,\n",
    "    COUNT(CASE WHEN movieId IS NULL THEN 1 END) AS null_count_movieId,\n",
    "    COUNT(CASE WHEN rating IS NULL THEN 1 END) AS null_count_rating,\n",
    "    COUNT(CASE WHEN timestamp IS NULL THEN 1 END) AS null_count_timestamp\n",
    "FROM silver.ratings;"
   ]
  },
  {
   "cell_type": "code",
   "execution_count": 0,
   "metadata": {
    "application/vnd.databricks.v1+cell": {
     "cellMetadata": {
      "byteLimit": 2048000,
      "implicitDf": true,
      "rowLimit": 10000
     },
     "inputWidgets": {},
     "nuid": "e1e5f286-a66d-421e-8ef7-390091adf63f",
     "showTitle": true,
     "tableResultSettingsMap": {},
     "title": "Apagando o database gold' para ser recriado"
    }
   },
   "outputs": [
    {
     "output_type": "display_data",
     "data": {
      "text/html": [
       "<style scoped>\n",
       "  .table-result-container {\n",
       "    max-height: 300px;\n",
       "    overflow: auto;\n",
       "  }\n",
       "  table, th, td {\n",
       "    border: 1px solid black;\n",
       "    border-collapse: collapse;\n",
       "  }\n",
       "  th, td {\n",
       "    padding: 5px;\n",
       "  }\n",
       "  th {\n",
       "    text-align: left;\n",
       "  }\n",
       "</style><div class='table-result-container'><table class='table-result'><thead style='background-color: white'><tr></tr></thead><tbody></tbody></table></div>"
      ]
     },
     "metadata": {
      "application/vnd.databricks.v1+output": {
       "addedWidgets": {},
       "aggData": [],
       "aggError": "",
       "aggOverflow": false,
       "aggSchema": [],
       "aggSeriesLimitReached": false,
       "aggType": "",
       "arguments": {},
       "columnCustomDisplayInfos": {},
       "data": [],
       "datasetInfos": [],
       "dbfsResultPath": null,
       "isJsonSchema": true,
       "metadata": {},
       "overflow": false,
       "plotOptions": {
        "customPlotOptions": {},
        "displayType": "table",
        "pivotAggregation": null,
        "pivotColumns": null,
        "xColumns": null,
        "yColumns": null
       },
       "removedWidgets": [],
       "schema": [],
       "type": "table"
      }
     },
     "output_type": "display_data"
    }
   ],
   "source": [
    "%sql DROP DATABASE gold CASCADE"
   ]
  },
  {
   "cell_type": "code",
   "execution_count": 0,
   "metadata": {
    "application/vnd.databricks.v1+cell": {
     "cellMetadata": {
      "byteLimit": 2048000,
      "implicitDf": true,
      "rowLimit": 10000
     },
     "inputWidgets": {},
     "nuid": "4b7cb0b8-7632-4447-bd4a-f895e960cae4",
     "showTitle": true,
     "tableResultSettingsMap": {},
     "title": "Recriando o database 'gold'"
    }
   },
   "outputs": [
    {
     "output_type": "display_data",
     "data": {
      "text/html": [
       "<style scoped>\n",
       "  .table-result-container {\n",
       "    max-height: 300px;\n",
       "    overflow: auto;\n",
       "  }\n",
       "  table, th, td {\n",
       "    border: 1px solid black;\n",
       "    border-collapse: collapse;\n",
       "  }\n",
       "  th, td {\n",
       "    padding: 5px;\n",
       "  }\n",
       "  th {\n",
       "    text-align: left;\n",
       "  }\n",
       "</style><div class='table-result-container'><table class='table-result'><thead style='background-color: white'><tr></tr></thead><tbody></tbody></table></div>"
      ]
     },
     "metadata": {
      "application/vnd.databricks.v1+output": {
       "addedWidgets": {},
       "aggData": [],
       "aggError": "",
       "aggOverflow": false,
       "aggSchema": [],
       "aggSeriesLimitReached": false,
       "aggType": "",
       "arguments": {},
       "columnCustomDisplayInfos": {},
       "data": [],
       "datasetInfos": [],
       "dbfsResultPath": null,
       "isJsonSchema": true,
       "metadata": {},
       "overflow": false,
       "plotOptions": {
        "customPlotOptions": {},
        "displayType": "table",
        "pivotAggregation": null,
        "pivotColumns": null,
        "xColumns": null,
        "yColumns": null
       },
       "removedWidgets": [],
       "schema": [],
       "type": "table"
      }
     },
     "output_type": "display_data"
    }
   ],
   "source": [
    "%sql CREATE DATABASE gold;"
   ]
  },
  {
   "cell_type": "code",
   "execution_count": 0,
   "metadata": {
    "application/vnd.databricks.v1+cell": {
     "cellMetadata": {
      "byteLimit": 2048000,
      "rowLimit": 10000
     },
     "inputWidgets": {},
     "nuid": "9ddca019-6141-4e69-ac1a-58a0ca439dd4",
     "showTitle": true,
     "tableResultSettingsMap": {},
     "title": "Criação da tabela gold Movies"
    }
   },
   "outputs": [],
   "source": [
    "movies_spark_df.write.mode(\"overwrite\").saveAsTable(\"gold.movies\")"
   ]
  },
  {
   "cell_type": "code",
   "execution_count": 0,
   "metadata": {
    "application/vnd.databricks.v1+cell": {
     "cellMetadata": {
      "byteLimit": 2048000,
      "rowLimit": 10000
     },
     "inputWidgets": {},
     "nuid": "c180635b-1b9d-424a-a760-99b261211d11",
     "showTitle": true,
     "tableResultSettingsMap": {},
     "title": "Criação da tabela gold Ratings"
    }
   },
   "outputs": [],
   "source": [
    "ratings_spark_df.write.mode(\"overwrite\").saveAsTable(\"gold.ratings\")"
   ]
  },
  {
   "cell_type": "code",
   "execution_count": 0,
   "metadata": {
    "application/vnd.databricks.v1+cell": {
     "cellMetadata": {
      "byteLimit": 2048000,
      "rowLimit": 10000
     },
     "inputWidgets": {},
     "nuid": "5c3aeed1-8e14-4b57-8a20-8142301f6a8e",
     "showTitle": true,
     "tableResultSettingsMap": {},
     "title": "Unir as tabelas e ordenar por movieId"
    }
   },
   "outputs": [
    {
     "output_type": "stream",
     "name": "stdout",
     "output_type": "stream",
     "text": [
      "+-------+------+------+---------+----------------+--------------------+\n|movieId|userId|rating|timestamp|           title|              genres|\n+-------+------+------+---------+----------------+--------------------+\n|      1|    21|     3|978139347|Toy Story (1995)|Animation|Childre...|\n|      1|    10|     5|978226474|Toy Story (1995)|Animation|Childre...|\n|      1|    23|     4|978463614|Toy Story (1995)|Animation|Childre...|\n|      1|     6|     4|978237008|Toy Story (1995)|Animation|Childre...|\n|      1|    26|     3|978130703|Toy Story (1995)|Animation|Childre...|\n|      1|     8|     4|978233496|Toy Story (1995)|Animation|Childre...|\n|      1|    28|     3|978985309|Toy Story (1995)|Animation|Childre...|\n|      1|    19|     5|978555994|Toy Story (1995)|Animation|Childre...|\n|      1|    34|     5|978102970|Toy Story (1995)|Animation|Childre...|\n|      1|    38|     5|978046225|Toy Story (1995)|Animation|Childre...|\n+-------+------+------+---------+----------------+--------------------+\nonly showing top 10 rows\n\n"
     ]
    }
   ],
   "source": [
    "# Realizar o JOIN usando a coluna \"movieId\" e ordenar\n",
    "movies_ratings_spark_df = ratings_spark_df.join(movies_spark_df, on=\"movieId\", how=\"inner\") \\\n",
    "                              .orderBy(\"movieId\")\n",
    "\n",
    "# Mostrar os primeiros registros\n",
    "movies_ratings_spark_df.show(10)"
   ]
  },
  {
   "cell_type": "code",
   "execution_count": 0,
   "metadata": {
    "application/vnd.databricks.v1+cell": {
     "cellMetadata": {
      "byteLimit": 2048000,
      "rowLimit": 10000
     },
     "inputWidgets": {},
     "nuid": "7c9b9935-ea32-4897-a8eb-db7fe53ed007",
     "showTitle": true,
     "tableResultSettingsMap": {},
     "title": "Converter timestamp Unix para Data Legível"
    }
   },
   "outputs": [],
   "source": [
    "from pyspark.sql.functions import from_unixtime, col\n",
    "movies_ratings_spark_df = movies_ratings_spark_df.withColumn(\"timestamp\", from_unixtime(col(\"timestamp\")))"
   ]
  },
  {
   "cell_type": "code",
   "execution_count": 0,
   "metadata": {
    "application/vnd.databricks.v1+cell": {
     "cellMetadata": {
      "byteLimit": 2048000,
      "rowLimit": 10000
     },
     "inputWidgets": {},
     "nuid": "e8ec95fa-a783-45c7-9182-7ca536c7969b",
     "showTitle": true,
     "tableResultSettingsMap": {},
     "title": "Criação da tabela gold - Movies_Ratings"
    }
   },
   "outputs": [],
   "source": [
    "movies_ratings_spark_df.write.mode(\"overwrite\").saveAsTable(\"gold.movies_ratings\")"
   ]
  },
  {
   "cell_type": "code",
   "execution_count": 0,
   "metadata": {
    "application/vnd.databricks.v1+cell": {
     "cellMetadata": {
      "byteLimit": 2048000,
      "implicitDf": true,
      "rowLimit": 10000
     },
     "inputWidgets": {},
     "nuid": "eb4c7e95-db6a-43ef-96d8-ae0b58948f48",
     "showTitle": true,
     "tableResultSettingsMap": {},
     "title": "Verificando o resultado final"
    }
   },
   "outputs": [
    {
     "output_type": "display_data",
     "data": {
      "text/html": [
       "<style scoped>\n",
       "  .table-result-container {\n",
       "    max-height: 300px;\n",
       "    overflow: auto;\n",
       "  }\n",
       "  table, th, td {\n",
       "    border: 1px solid black;\n",
       "    border-collapse: collapse;\n",
       "  }\n",
       "  th, td {\n",
       "    padding: 5px;\n",
       "  }\n",
       "  th {\n",
       "    text-align: left;\n",
       "  }\n",
       "</style><div class='table-result-container'><table class='table-result'><thead style='background-color: white'><tr><th>movieId</th><th>userId</th><th>rating</th><th>timestamp</th><th>title</th><th>genres</th></tr></thead><tbody><tr><td>1</td><td>1</td><td>5</td><td>2001-01-06 23:37:48</td><td>Toy Story (1995)</td><td>Animation|Children's|Comedy</td></tr><tr><td>1</td><td>6</td><td>4</td><td>2000-12-31 04:30:08</td><td>Toy Story (1995)</td><td>Animation|Children's|Comedy</td></tr><tr><td>1</td><td>8</td><td>4</td><td>2000-12-31 03:31:36</td><td>Toy Story (1995)</td><td>Animation|Children's|Comedy</td></tr><tr><td>1</td><td>9</td><td>5</td><td>2000-12-31 01:25:52</td><td>Toy Story (1995)</td><td>Animation|Children's|Comedy</td></tr><tr><td>1</td><td>10</td><td>5</td><td>2000-12-31 01:34:34</td><td>Toy Story (1995)</td><td>Animation|Children's|Comedy</td></tr><tr><td>1</td><td>18</td><td>4</td><td>2000-12-30 05:39:28</td><td>Toy Story (1995)</td><td>Animation|Children's|Comedy</td></tr><tr><td>1</td><td>19</td><td>5</td><td>2001-01-03 21:06:34</td><td>Toy Story (1995)</td><td>Animation|Children's|Comedy</td></tr><tr><td>1</td><td>21</td><td>3</td><td>2000-12-30 01:22:27</td><td>Toy Story (1995)</td><td>Animation|Children's|Comedy</td></tr><tr><td>1</td><td>23</td><td>4</td><td>2001-01-02 19:26:54</td><td>Toy Story (1995)</td><td>Animation|Children's|Comedy</td></tr><tr><td>1</td><td>26</td><td>3</td><td>2000-12-29 22:58:23</td><td>Toy Story (1995)</td><td>Animation|Children's|Comedy</td></tr><tr><td>1</td><td>28</td><td>3</td><td>2001-01-08 20:21:49</td><td>Toy Story (1995)</td><td>Animation|Children's|Comedy</td></tr><tr><td>1</td><td>34</td><td>5</td><td>2000-12-29 15:16:10</td><td>Toy Story (1995)</td><td>Animation|Children's|Comedy</td></tr><tr><td>1</td><td>36</td><td>5</td><td>2000-12-29 03:41:25</td><td>Toy Story (1995)</td><td>Animation|Children's|Comedy</td></tr><tr><td>1</td><td>38</td><td>5</td><td>2000-12-28 23:30:25</td><td>Toy Story (1995)</td><td>Animation|Children's|Comedy</td></tr><tr><td>1</td><td>44</td><td>5</td><td>2000-12-28 16:02:49</td><td>Toy Story (1995)</td><td>Animation|Children's|Comedy</td></tr><tr><td>1</td><td>45</td><td>4</td><td>2000-12-28 07:54:04</td><td>Toy Story (1995)</td><td>Animation|Children's|Comedy</td></tr><tr><td>1</td><td>48</td><td>4</td><td>2000-12-28 03:58:29</td><td>Toy Story (1995)</td><td>Animation|Children's|Comedy</td></tr><tr><td>1</td><td>49</td><td>5</td><td>2000-12-28 03:01:41</td><td>Toy Story (1995)</td><td>Animation|Children's|Comedy</td></tr><tr><td>1</td><td>51</td><td>5</td><td>2000-12-27 20:10:28</td><td>Toy Story (1995)</td><td>Animation|Children's|Comedy</td></tr><tr><td>1</td><td>56</td><td>5</td><td>2000-12-27 17:40:55</td><td>Toy Story (1995)</td><td>Animation|Children's|Comedy</td></tr><tr><td>1</td><td>60</td><td>4</td><td>2000-12-27 15:46:23</td><td>Toy Story (1995)</td><td>Animation|Children's|Comedy</td></tr><tr><td>1</td><td>65</td><td>5</td><td>2001-06-01 04:12:54</td><td>Toy Story (1995)</td><td>Animation|Children's|Comedy</td></tr><tr><td>1</td><td>68</td><td>3</td><td>2001-06-01 06:13:46</td><td>Toy Story (1995)</td><td>Animation|Children's|Comedy</td></tr><tr><td>1</td><td>73</td><td>3</td><td>2000-12-26 21:56:52</td><td>Toy Story (1995)</td><td>Animation|Children's|Comedy</td></tr><tr><td>1</td><td>75</td><td>5</td><td>2000-12-26 17:18:19</td><td>Toy Story (1995)</td><td>Animation|Children's|Comedy</td></tr><tr><td>1</td><td>76</td><td>5</td><td>2000-12-26 16:11:09</td><td>Toy Story (1995)</td><td>Animation|Children's|Comedy</td></tr><tr><td>1</td><td>78</td><td>4</td><td>2001-01-04 01:10:48</td><td>Toy Story (1995)</td><td>Animation|Children's|Comedy</td></tr><tr><td>1</td><td>80</td><td>3</td><td>2000-12-25 23:28:24</td><td>Toy Story (1995)</td><td>Animation|Children's|Comedy</td></tr><tr><td>1</td><td>90</td><td>3</td><td>2001-06-30 03:48:53</td><td>Toy Story (1995)</td><td>Animation|Children's|Comedy</td></tr><tr><td>1</td><td>92</td><td>4</td><td>2000-12-24 08:33:37</td><td>Toy Story (1995)</td><td>Animation|Children's|Comedy</td></tr><tr><td>1</td><td>96</td><td>4</td><td>2001-01-27 02:39:55</td><td>Toy Story (1995)</td><td>Animation|Children's|Comedy</td></tr><tr><td>1</td><td>99</td><td>3</td><td>2001-02-22 20:27:58</td><td>Toy Story (1995)</td><td>Animation|Children's|Comedy</td></tr><tr><td>1</td><td>109</td><td>4</td><td>2000-12-22 21:06:48</td><td>Toy Story (1995)</td><td>Animation|Children's|Comedy</td></tr><tr><td>1</td><td>112</td><td>5</td><td>2000-12-22 18:08:06</td><td>Toy Story (1995)</td><td>Animation|Children's|Comedy</td></tr><tr><td>1</td><td>114</td><td>3</td><td>2000-12-22 17:28:50</td><td>Toy Story (1995)</td><td>Animation|Children's|Comedy</td></tr><tr><td>1</td><td>117</td><td>3</td><td>2000-12-22 15:18:24</td><td>Toy Story (1995)</td><td>Animation|Children's|Comedy</td></tr><tr><td>1</td><td>118</td><td>3</td><td>2000-12-22 16:19:33</td><td>Toy Story (1995)</td><td>Animation|Children's|Comedy</td></tr><tr><td>1</td><td>119</td><td>5</td><td>2000-12-22 19:31:21</td><td>Toy Story (1995)</td><td>Animation|Children's|Comedy</td></tr><tr><td>1</td><td>121</td><td>5</td><td>2000-12-22 04:28:42</td><td>Toy Story (1995)</td><td>Animation|Children's|Comedy</td></tr><tr><td>1</td><td>123</td><td>3</td><td>2000-12-28 23:39:15</td><td>Toy Story (1995)</td><td>Animation|Children's|Comedy</td></tr><tr><td>1</td><td>131</td><td>3</td><td>2000-12-22 02:58:42</td><td>Toy Story (1995)</td><td>Animation|Children's|Comedy</td></tr><tr><td>1</td><td>132</td><td>5</td><td>2000-12-21 19:42:17</td><td>Toy Story (1995)</td><td>Animation|Children's|Comedy</td></tr><tr><td>1</td><td>134</td><td>4</td><td>2000-12-26 15:44:55</td><td>Toy Story (1995)</td><td>Animation|Children's|Comedy</td></tr><tr><td>1</td><td>136</td><td>2</td><td>2000-12-23 00:19:52</td><td>Toy Story (1995)</td><td>Animation|Children's|Comedy</td></tr><tr><td>1</td><td>139</td><td>4</td><td>2000-12-21 00:57:14</td><td>Toy Story (1995)</td><td>Animation|Children's|Comedy</td></tr><tr><td>1</td><td>142</td><td>4</td><td>2000-12-20 22:54:28</td><td>Toy Story (1995)</td><td>Animation|Children's|Comedy</td></tr><tr><td>1</td><td>146</td><td>5</td><td>2000-12-20 21:45:56</td><td>Toy Story (1995)</td><td>Animation|Children's|Comedy</td></tr><tr><td>1</td><td>147</td><td>4</td><td>2000-12-20 18:21:20</td><td>Toy Story (1995)</td><td>Animation|Children's|Comedy</td></tr><tr><td>1</td><td>148</td><td>5</td><td>2000-12-20 17:59:53</td><td>Toy Story (1995)</td><td>Animation|Children's|Comedy</td></tr><tr><td>1</td><td>149</td><td>3</td><td>2000-12-30 15:40:37</td><td>Toy Story (1995)</td><td>Animation|Children's|Comedy</td></tr><tr><td>1</td><td>150</td><td>4</td><td>2000-12-30 07:34:52</td><td>Toy Story (1995)</td><td>Animation|Children's|Comedy</td></tr><tr><td>1</td><td>151</td><td>2</td><td>2001-06-10 00:34:11</td><td>Toy Story (1995)</td><td>Animation|Children's|Comedy</td></tr><tr><td>1</td><td>152</td><td>4</td><td>2000-12-19 23:35:21</td><td>Toy Story (1995)</td><td>Animation|Children's|Comedy</td></tr><tr><td>1</td><td>156</td><td>5</td><td>2000-12-19 18:14:32</td><td>Toy Story (1995)</td><td>Animation|Children's|Comedy</td></tr><tr><td>1</td><td>157</td><td>5</td><td>2000-12-19 18:10:16</td><td>Toy Story (1995)</td><td>Animation|Children's|Comedy</td></tr><tr><td>1</td><td>162</td><td>5</td><td>2001-02-13 22:48:16</td><td>Toy Story (1995)</td><td>Animation|Children's|Comedy</td></tr><tr><td>1</td><td>163</td><td>4</td><td>2000-12-19 08:18:55</td><td>Toy Story (1995)</td><td>Animation|Children's|Comedy</td></tr><tr><td>1</td><td>168</td><td>4</td><td>2000-12-18 22:03:23</td><td>Toy Story (1995)</td><td>Animation|Children's|Comedy</td></tr><tr><td>1</td><td>169</td><td>5</td><td>2000-12-19 04:11:42</td><td>Toy Story (1995)</td><td>Animation|Children's|Comedy</td></tr><tr><td>1</td><td>173</td><td>4</td><td>2001-07-16 17:29:22</td><td>Toy Story (1995)</td><td>Animation|Children's|Comedy</td></tr><tr><td>1</td><td>175</td><td>4</td><td>2000-12-18 04:19:14</td><td>Toy Story (1995)</td><td>Animation|Children's|Comedy</td></tr><tr><td>1</td><td>181</td><td>2</td><td>2000-12-17 21:32:23</td><td>Toy Story (1995)</td><td>Animation|Children's|Comedy</td></tr><tr><td>1</td><td>182</td><td>5</td><td>2000-12-17 20:35:26</td><td>Toy Story (1995)</td><td>Animation|Children's|Comedy</td></tr><tr><td>1</td><td>184</td><td>5</td><td>2002-12-04 02:52:54</td><td>Toy Story (1995)</td><td>Animation|Children's|Comedy</td></tr><tr><td>1</td><td>186</td><td>5</td><td>2000-12-17 13:23:58</td><td>Toy Story (1995)</td><td>Animation|Children's|Comedy</td></tr><tr><td>1</td><td>187</td><td>4</td><td>2000-12-19 13:30:55</td><td>Toy Story (1995)</td><td>Animation|Children's|Comedy</td></tr><tr><td>1</td><td>190</td><td>3</td><td>2000-12-17 04:24:14</td><td>Toy Story (1995)</td><td>Animation|Children's|Comedy</td></tr><tr><td>1</td><td>193</td><td>4</td><td>2002-07-02 00:32:44</td><td>Toy Story (1995)</td><td>Animation|Children's|Comedy</td></tr><tr><td>1</td><td>194</td><td>4</td><td>2000-12-17 00:51:43</td><td>Toy Story (1995)</td><td>Animation|Children's|Comedy</td></tr><tr><td>1</td><td>195</td><td>5</td><td>2001-03-31 14:20:25</td><td>Toy Story (1995)</td><td>Animation|Children's|Comedy</td></tr><tr><td>1</td><td>198</td><td>5</td><td>2000-12-16 15:20:54</td><td>Toy Story (1995)</td><td>Animation|Children's|Comedy</td></tr><tr><td>1</td><td>202</td><td>4</td><td>2000-12-16 04:10:41</td><td>Toy Story (1995)</td><td>Animation|Children's|Comedy</td></tr><tr><td>1</td><td>204</td><td>4</td><td>2000-12-29 00:33:24</td><td>Toy Story (1995)</td><td>Animation|Children's|Comedy</td></tr><tr><td>1</td><td>213</td><td>5</td><td>2000-12-15 17:10:43</td><td>Toy Story (1995)</td><td>Animation|Children's|Comedy</td></tr><tr><td>1</td><td>214</td><td>4</td><td>2000-12-15 17:16:35</td><td>Toy Story (1995)</td><td>Animation|Children's|Comedy</td></tr><tr><td>1</td><td>215</td><td>4</td><td>2001-01-11 01:03:07</td><td>Toy Story (1995)</td><td>Animation|Children's|Comedy</td></tr><tr><td>1</td><td>220</td><td>5</td><td>2000-12-14 23:25:51</td><td>Toy Story (1995)</td><td>Animation|Children's|Comedy</td></tr><tr><td>1</td><td>223</td><td>5</td><td>2000-12-14 22:21:00</td><td>Toy Story (1995)</td><td>Animation|Children's|Comedy</td></tr><tr><td>1</td><td>224</td><td>3</td><td>2000-12-14 22:09:47</td><td>Toy Story (1995)</td><td>Animation|Children's|Comedy</td></tr><tr><td>1</td><td>225</td><td>4</td><td>2000-12-19 20:20:51</td><td>Toy Story (1995)</td><td>Animation|Children's|Comedy</td></tr><tr><td>1</td><td>230</td><td>3</td><td>2000-12-14 18:54:30</td><td>Toy Story (1995)</td><td>Animation|Children's|Comedy</td></tr><tr><td>1</td><td>231</td><td>5</td><td>2002-12-21 04:37:12</td><td>Toy Story (1995)</td><td>Animation|Children's|Comedy</td></tr><tr><td>1</td><td>232</td><td>4</td><td>2000-12-14 16:49:56</td><td>Toy Story (1995)</td><td>Animation|Children's|Comedy</td></tr><tr><td>1</td><td>236</td><td>4</td><td>2000-12-14 03:41:33</td><td>Toy Story (1995)</td><td>Animation|Children's|Comedy</td></tr><tr><td>1</td><td>237</td><td>4</td><td>2000-12-14 02:45:05</td><td>Toy Story (1995)</td><td>Animation|Children's|Comedy</td></tr><tr><td>1</td><td>239</td><td>5</td><td>2001-06-24 05:08:48</td><td>Toy Story (1995)</td><td>Animation|Children's|Comedy</td></tr><tr><td>1</td><td>243</td><td>4</td><td>2000-12-13 23:16:39</td><td>Toy Story (1995)</td><td>Animation|Children's|Comedy</td></tr><tr><td>1</td><td>246</td><td>5</td><td>2000-12-13 17:29:39</td><td>Toy Story (1995)</td><td>Animation|Children's|Comedy</td></tr><tr><td>1</td><td>255</td><td>4</td><td>2000-12-13 04:53:04</td><td>Toy Story (1995)</td><td>Animation|Children's|Comedy</td></tr><tr><td>1</td><td>258</td><td>5</td><td>2000-12-13 01:40:45</td><td>Toy Story (1995)</td><td>Animation|Children's|Comedy</td></tr><tr><td>1</td><td>263</td><td>4</td><td>2000-12-12 20:13:09</td><td>Toy Story (1995)</td><td>Animation|Children's|Comedy</td></tr><tr><td>1</td><td>264</td><td>4</td><td>2000-12-13 13:28:39</td><td>Toy Story (1995)</td><td>Animation|Children's|Comedy</td></tr><tr><td>1</td><td>271</td><td>4</td><td>2000-12-12 15:48:29</td><td>Toy Story (1995)</td><td>Animation|Children's|Comedy</td></tr><tr><td>1</td><td>272</td><td>5</td><td>2000-12-13 08:15:56</td><td>Toy Story (1995)</td><td>Animation|Children's|Comedy</td></tr><tr><td>1</td><td>273</td><td>5</td><td>2000-12-14 06:22:32</td><td>Toy Story (1995)</td><td>Animation|Children's|Comedy</td></tr><tr><td>1</td><td>284</td><td>5</td><td>2000-12-11 21:35:17</td><td>Toy Story (1995)</td><td>Animation|Children's|Comedy</td></tr><tr><td>1</td><td>293</td><td>2</td><td>2000-12-11 19:06:39</td><td>Toy Story (1995)</td><td>Animation|Children's|Comedy</td></tr><tr><td>1</td><td>294</td><td>3</td><td>2000-12-11 13:49:05</td><td>Toy Story (1995)</td><td>Animation|Children's|Comedy</td></tr><tr><td>1</td><td>299</td><td>3</td><td>2000-12-12 22:24:37</td><td>Toy Story (1995)</td><td>Animation|Children's|Comedy</td></tr><tr><td>1</td><td>300</td><td>5</td><td>2000-12-11 03:41:00</td><td>Toy Story (1995)</td><td>Animation|Children's|Comedy</td></tr></tbody></table></div>"
      ]
     },
     "metadata": {
      "application/vnd.databricks.v1+output": {
       "addedWidgets": {},
       "aggData": [],
       "aggError": "",
       "aggOverflow": false,
       "aggSchema": [],
       "aggSeriesLimitReached": false,
       "aggType": "",
       "arguments": {},
       "columnCustomDisplayInfos": {},
       "data": [
        [
         1,
         1,
         5,
         "2001-01-06 23:37:48",
         "Toy Story (1995)",
         "Animation|Children's|Comedy"
        ],
        [
         1,
         6,
         4,
         "2000-12-31 04:30:08",
         "Toy Story (1995)",
         "Animation|Children's|Comedy"
        ],
        [
         1,
         8,
         4,
         "2000-12-31 03:31:36",
         "Toy Story (1995)",
         "Animation|Children's|Comedy"
        ],
        [
         1,
         9,
         5,
         "2000-12-31 01:25:52",
         "Toy Story (1995)",
         "Animation|Children's|Comedy"
        ],
        [
         1,
         10,
         5,
         "2000-12-31 01:34:34",
         "Toy Story (1995)",
         "Animation|Children's|Comedy"
        ],
        [
         1,
         18,
         4,
         "2000-12-30 05:39:28",
         "Toy Story (1995)",
         "Animation|Children's|Comedy"
        ],
        [
         1,
         19,
         5,
         "2001-01-03 21:06:34",
         "Toy Story (1995)",
         "Animation|Children's|Comedy"
        ],
        [
         1,
         21,
         3,
         "2000-12-30 01:22:27",
         "Toy Story (1995)",
         "Animation|Children's|Comedy"
        ],
        [
         1,
         23,
         4,
         "2001-01-02 19:26:54",
         "Toy Story (1995)",
         "Animation|Children's|Comedy"
        ],
        [
         1,
         26,
         3,
         "2000-12-29 22:58:23",
         "Toy Story (1995)",
         "Animation|Children's|Comedy"
        ],
        [
         1,
         28,
         3,
         "2001-01-08 20:21:49",
         "Toy Story (1995)",
         "Animation|Children's|Comedy"
        ],
        [
         1,
         34,
         5,
         "2000-12-29 15:16:10",
         "Toy Story (1995)",
         "Animation|Children's|Comedy"
        ],
        [
         1,
         36,
         5,
         "2000-12-29 03:41:25",
         "Toy Story (1995)",
         "Animation|Children's|Comedy"
        ],
        [
         1,
         38,
         5,
         "2000-12-28 23:30:25",
         "Toy Story (1995)",
         "Animation|Children's|Comedy"
        ],
        [
         1,
         44,
         5,
         "2000-12-28 16:02:49",
         "Toy Story (1995)",
         "Animation|Children's|Comedy"
        ],
        [
         1,
         45,
         4,
         "2000-12-28 07:54:04",
         "Toy Story (1995)",
         "Animation|Children's|Comedy"
        ],
        [
         1,
         48,
         4,
         "2000-12-28 03:58:29",
         "Toy Story (1995)",
         "Animation|Children's|Comedy"
        ],
        [
         1,
         49,
         5,
         "2000-12-28 03:01:41",
         "Toy Story (1995)",
         "Animation|Children's|Comedy"
        ],
        [
         1,
         51,
         5,
         "2000-12-27 20:10:28",
         "Toy Story (1995)",
         "Animation|Children's|Comedy"
        ],
        [
         1,
         56,
         5,
         "2000-12-27 17:40:55",
         "Toy Story (1995)",
         "Animation|Children's|Comedy"
        ],
        [
         1,
         60,
         4,
         "2000-12-27 15:46:23",
         "Toy Story (1995)",
         "Animation|Children's|Comedy"
        ],
        [
         1,
         65,
         5,
         "2001-06-01 04:12:54",
         "Toy Story (1995)",
         "Animation|Children's|Comedy"
        ],
        [
         1,
         68,
         3,
         "2001-06-01 06:13:46",
         "Toy Story (1995)",
         "Animation|Children's|Comedy"
        ],
        [
         1,
         73,
         3,
         "2000-12-26 21:56:52",
         "Toy Story (1995)",
         "Animation|Children's|Comedy"
        ],
        [
         1,
         75,
         5,
         "2000-12-26 17:18:19",
         "Toy Story (1995)",
         "Animation|Children's|Comedy"
        ],
        [
         1,
         76,
         5,
         "2000-12-26 16:11:09",
         "Toy Story (1995)",
         "Animation|Children's|Comedy"
        ],
        [
         1,
         78,
         4,
         "2001-01-04 01:10:48",
         "Toy Story (1995)",
         "Animation|Children's|Comedy"
        ],
        [
         1,
         80,
         3,
         "2000-12-25 23:28:24",
         "Toy Story (1995)",
         "Animation|Children's|Comedy"
        ],
        [
         1,
         90,
         3,
         "2001-06-30 03:48:53",
         "Toy Story (1995)",
         "Animation|Children's|Comedy"
        ],
        [
         1,
         92,
         4,
         "2000-12-24 08:33:37",
         "Toy Story (1995)",
         "Animation|Children's|Comedy"
        ],
        [
         1,
         96,
         4,
         "2001-01-27 02:39:55",
         "Toy Story (1995)",
         "Animation|Children's|Comedy"
        ],
        [
         1,
         99,
         3,
         "2001-02-22 20:27:58",
         "Toy Story (1995)",
         "Animation|Children's|Comedy"
        ],
        [
         1,
         109,
         4,
         "2000-12-22 21:06:48",
         "Toy Story (1995)",
         "Animation|Children's|Comedy"
        ],
        [
         1,
         112,
         5,
         "2000-12-22 18:08:06",
         "Toy Story (1995)",
         "Animation|Children's|Comedy"
        ],
        [
         1,
         114,
         3,
         "2000-12-22 17:28:50",
         "Toy Story (1995)",
         "Animation|Children's|Comedy"
        ],
        [
         1,
         117,
         3,
         "2000-12-22 15:18:24",
         "Toy Story (1995)",
         "Animation|Children's|Comedy"
        ],
        [
         1,
         118,
         3,
         "2000-12-22 16:19:33",
         "Toy Story (1995)",
         "Animation|Children's|Comedy"
        ],
        [
         1,
         119,
         5,
         "2000-12-22 19:31:21",
         "Toy Story (1995)",
         "Animation|Children's|Comedy"
        ],
        [
         1,
         121,
         5,
         "2000-12-22 04:28:42",
         "Toy Story (1995)",
         "Animation|Children's|Comedy"
        ],
        [
         1,
         123,
         3,
         "2000-12-28 23:39:15",
         "Toy Story (1995)",
         "Animation|Children's|Comedy"
        ],
        [
         1,
         131,
         3,
         "2000-12-22 02:58:42",
         "Toy Story (1995)",
         "Animation|Children's|Comedy"
        ],
        [
         1,
         132,
         5,
         "2000-12-21 19:42:17",
         "Toy Story (1995)",
         "Animation|Children's|Comedy"
        ],
        [
         1,
         134,
         4,
         "2000-12-26 15:44:55",
         "Toy Story (1995)",
         "Animation|Children's|Comedy"
        ],
        [
         1,
         136,
         2,
         "2000-12-23 00:19:52",
         "Toy Story (1995)",
         "Animation|Children's|Comedy"
        ],
        [
         1,
         139,
         4,
         "2000-12-21 00:57:14",
         "Toy Story (1995)",
         "Animation|Children's|Comedy"
        ],
        [
         1,
         142,
         4,
         "2000-12-20 22:54:28",
         "Toy Story (1995)",
         "Animation|Children's|Comedy"
        ],
        [
         1,
         146,
         5,
         "2000-12-20 21:45:56",
         "Toy Story (1995)",
         "Animation|Children's|Comedy"
        ],
        [
         1,
         147,
         4,
         "2000-12-20 18:21:20",
         "Toy Story (1995)",
         "Animation|Children's|Comedy"
        ],
        [
         1,
         148,
         5,
         "2000-12-20 17:59:53",
         "Toy Story (1995)",
         "Animation|Children's|Comedy"
        ],
        [
         1,
         149,
         3,
         "2000-12-30 15:40:37",
         "Toy Story (1995)",
         "Animation|Children's|Comedy"
        ],
        [
         1,
         150,
         4,
         "2000-12-30 07:34:52",
         "Toy Story (1995)",
         "Animation|Children's|Comedy"
        ],
        [
         1,
         151,
         2,
         "2001-06-10 00:34:11",
         "Toy Story (1995)",
         "Animation|Children's|Comedy"
        ],
        [
         1,
         152,
         4,
         "2000-12-19 23:35:21",
         "Toy Story (1995)",
         "Animation|Children's|Comedy"
        ],
        [
         1,
         156,
         5,
         "2000-12-19 18:14:32",
         "Toy Story (1995)",
         "Animation|Children's|Comedy"
        ],
        [
         1,
         157,
         5,
         "2000-12-19 18:10:16",
         "Toy Story (1995)",
         "Animation|Children's|Comedy"
        ],
        [
         1,
         162,
         5,
         "2001-02-13 22:48:16",
         "Toy Story (1995)",
         "Animation|Children's|Comedy"
        ],
        [
         1,
         163,
         4,
         "2000-12-19 08:18:55",
         "Toy Story (1995)",
         "Animation|Children's|Comedy"
        ],
        [
         1,
         168,
         4,
         "2000-12-18 22:03:23",
         "Toy Story (1995)",
         "Animation|Children's|Comedy"
        ],
        [
         1,
         169,
         5,
         "2000-12-19 04:11:42",
         "Toy Story (1995)",
         "Animation|Children's|Comedy"
        ],
        [
         1,
         173,
         4,
         "2001-07-16 17:29:22",
         "Toy Story (1995)",
         "Animation|Children's|Comedy"
        ],
        [
         1,
         175,
         4,
         "2000-12-18 04:19:14",
         "Toy Story (1995)",
         "Animation|Children's|Comedy"
        ],
        [
         1,
         181,
         2,
         "2000-12-17 21:32:23",
         "Toy Story (1995)",
         "Animation|Children's|Comedy"
        ],
        [
         1,
         182,
         5,
         "2000-12-17 20:35:26",
         "Toy Story (1995)",
         "Animation|Children's|Comedy"
        ],
        [
         1,
         184,
         5,
         "2002-12-04 02:52:54",
         "Toy Story (1995)",
         "Animation|Children's|Comedy"
        ],
        [
         1,
         186,
         5,
         "2000-12-17 13:23:58",
         "Toy Story (1995)",
         "Animation|Children's|Comedy"
        ],
        [
         1,
         187,
         4,
         "2000-12-19 13:30:55",
         "Toy Story (1995)",
         "Animation|Children's|Comedy"
        ],
        [
         1,
         190,
         3,
         "2000-12-17 04:24:14",
         "Toy Story (1995)",
         "Animation|Children's|Comedy"
        ],
        [
         1,
         193,
         4,
         "2002-07-02 00:32:44",
         "Toy Story (1995)",
         "Animation|Children's|Comedy"
        ],
        [
         1,
         194,
         4,
         "2000-12-17 00:51:43",
         "Toy Story (1995)",
         "Animation|Children's|Comedy"
        ],
        [
         1,
         195,
         5,
         "2001-03-31 14:20:25",
         "Toy Story (1995)",
         "Animation|Children's|Comedy"
        ],
        [
         1,
         198,
         5,
         "2000-12-16 15:20:54",
         "Toy Story (1995)",
         "Animation|Children's|Comedy"
        ],
        [
         1,
         202,
         4,
         "2000-12-16 04:10:41",
         "Toy Story (1995)",
         "Animation|Children's|Comedy"
        ],
        [
         1,
         204,
         4,
         "2000-12-29 00:33:24",
         "Toy Story (1995)",
         "Animation|Children's|Comedy"
        ],
        [
         1,
         213,
         5,
         "2000-12-15 17:10:43",
         "Toy Story (1995)",
         "Animation|Children's|Comedy"
        ],
        [
         1,
         214,
         4,
         "2000-12-15 17:16:35",
         "Toy Story (1995)",
         "Animation|Children's|Comedy"
        ],
        [
         1,
         215,
         4,
         "2001-01-11 01:03:07",
         "Toy Story (1995)",
         "Animation|Children's|Comedy"
        ],
        [
         1,
         220,
         5,
         "2000-12-14 23:25:51",
         "Toy Story (1995)",
         "Animation|Children's|Comedy"
        ],
        [
         1,
         223,
         5,
         "2000-12-14 22:21:00",
         "Toy Story (1995)",
         "Animation|Children's|Comedy"
        ],
        [
         1,
         224,
         3,
         "2000-12-14 22:09:47",
         "Toy Story (1995)",
         "Animation|Children's|Comedy"
        ],
        [
         1,
         225,
         4,
         "2000-12-19 20:20:51",
         "Toy Story (1995)",
         "Animation|Children's|Comedy"
        ],
        [
         1,
         230,
         3,
         "2000-12-14 18:54:30",
         "Toy Story (1995)",
         "Animation|Children's|Comedy"
        ],
        [
         1,
         231,
         5,
         "2002-12-21 04:37:12",
         "Toy Story (1995)",
         "Animation|Children's|Comedy"
        ],
        [
         1,
         232,
         4,
         "2000-12-14 16:49:56",
         "Toy Story (1995)",
         "Animation|Children's|Comedy"
        ],
        [
         1,
         236,
         4,
         "2000-12-14 03:41:33",
         "Toy Story (1995)",
         "Animation|Children's|Comedy"
        ],
        [
         1,
         237,
         4,
         "2000-12-14 02:45:05",
         "Toy Story (1995)",
         "Animation|Children's|Comedy"
        ],
        [
         1,
         239,
         5,
         "2001-06-24 05:08:48",
         "Toy Story (1995)",
         "Animation|Children's|Comedy"
        ],
        [
         1,
         243,
         4,
         "2000-12-13 23:16:39",
         "Toy Story (1995)",
         "Animation|Children's|Comedy"
        ],
        [
         1,
         246,
         5,
         "2000-12-13 17:29:39",
         "Toy Story (1995)",
         "Animation|Children's|Comedy"
        ],
        [
         1,
         255,
         4,
         "2000-12-13 04:53:04",
         "Toy Story (1995)",
         "Animation|Children's|Comedy"
        ],
        [
         1,
         258,
         5,
         "2000-12-13 01:40:45",
         "Toy Story (1995)",
         "Animation|Children's|Comedy"
        ],
        [
         1,
         263,
         4,
         "2000-12-12 20:13:09",
         "Toy Story (1995)",
         "Animation|Children's|Comedy"
        ],
        [
         1,
         264,
         4,
         "2000-12-13 13:28:39",
         "Toy Story (1995)",
         "Animation|Children's|Comedy"
        ],
        [
         1,
         271,
         4,
         "2000-12-12 15:48:29",
         "Toy Story (1995)",
         "Animation|Children's|Comedy"
        ],
        [
         1,
         272,
         5,
         "2000-12-13 08:15:56",
         "Toy Story (1995)",
         "Animation|Children's|Comedy"
        ],
        [
         1,
         273,
         5,
         "2000-12-14 06:22:32",
         "Toy Story (1995)",
         "Animation|Children's|Comedy"
        ],
        [
         1,
         284,
         5,
         "2000-12-11 21:35:17",
         "Toy Story (1995)",
         "Animation|Children's|Comedy"
        ],
        [
         1,
         293,
         2,
         "2000-12-11 19:06:39",
         "Toy Story (1995)",
         "Animation|Children's|Comedy"
        ],
        [
         1,
         294,
         3,
         "2000-12-11 13:49:05",
         "Toy Story (1995)",
         "Animation|Children's|Comedy"
        ],
        [
         1,
         299,
         3,
         "2000-12-12 22:24:37",
         "Toy Story (1995)",
         "Animation|Children's|Comedy"
        ],
        [
         1,
         300,
         5,
         "2000-12-11 03:41:00",
         "Toy Story (1995)",
         "Animation|Children's|Comedy"
        ]
       ],
       "datasetInfos": [],
       "dbfsResultPath": null,
       "isJsonSchema": true,
       "metadata": {},
       "overflow": false,
       "plotOptions": {
        "customPlotOptions": {},
        "displayType": "table",
        "pivotAggregation": null,
        "pivotColumns": null,
        "xColumns": null,
        "yColumns": null
       },
       "removedWidgets": [],
       "schema": [
        {
         "metadata": "{}",
         "name": "movieId",
         "type": "\"integer\""
        },
        {
         "metadata": "{}",
         "name": "userId",
         "type": "\"integer\""
        },
        {
         "metadata": "{}",
         "name": "rating",
         "type": "\"integer\""
        },
        {
         "metadata": "{}",
         "name": "timestamp",
         "type": "\"string\""
        },
        {
         "metadata": "{}",
         "name": "title",
         "type": "\"string\""
        },
        {
         "metadata": "{}",
         "name": "genres",
         "type": "\"string\""
        }
       ],
       "type": "table"
      }
     },
     "output_type": "display_data"
    }
   ],
   "source": [
    "%sql SELECT * FROM gold.movies_ratings LIMIT 100"
   ]
  },
  {
   "cell_type": "code",
   "execution_count": 0,
   "metadata": {
    "application/vnd.databricks.v1+cell": {
     "cellMetadata": {
      "byteLimit": 2048000,
      "implicitDf": true,
      "rowLimit": 10000
     },
     "inputWidgets": {},
     "nuid": "7e785c52-7736-455d-9f74-90a5ea47fd91",
     "showTitle": true,
     "tableResultSettingsMap": {},
     "title": "Pergunta 1 - Quais os filmes com maior número de avaliações?"
    }
   },
   "outputs": [
    {
     "output_type": "display_data",
     "data": {
      "text/html": [
       "<style scoped>\n",
       "  .table-result-container {\n",
       "    max-height: 300px;\n",
       "    overflow: auto;\n",
       "  }\n",
       "  table, th, td {\n",
       "    border: 1px solid black;\n",
       "    border-collapse: collapse;\n",
       "  }\n",
       "  th, td {\n",
       "    padding: 5px;\n",
       "  }\n",
       "  th {\n",
       "    text-align: left;\n",
       "  }\n",
       "</style><div class='table-result-container'><table class='table-result'><thead style='background-color: white'><tr><th>title</th><th>cont_rating</th></tr></thead><tbody><tr><td>American Beauty (1999)</td><td>1775</td></tr><tr><td>Star Wars: Episode IV - A New Hope (1977)</td><td>1447</td></tr><tr><td>Star Wars: Episode V - The Empire Strikes Back (1980)</td><td>1438</td></tr><tr><td>Jurassic Park (1993)</td><td>1423</td></tr><tr><td>Star Wars: Episode VI - Return of the Jedi (1983)</td><td>1390</td></tr></tbody></table></div>"
      ]
     },
     "metadata": {
      "application/vnd.databricks.v1+output": {
       "addedWidgets": {},
       "aggData": [],
       "aggError": "",
       "aggOverflow": false,
       "aggSchema": [],
       "aggSeriesLimitReached": false,
       "aggType": "",
       "arguments": {},
       "columnCustomDisplayInfos": {},
       "data": [
        [
         "American Beauty (1999)",
         1775
        ],
        [
         "Star Wars: Episode IV - A New Hope (1977)",
         1447
        ],
        [
         "Star Wars: Episode V - The Empire Strikes Back (1980)",
         1438
        ],
        [
         "Jurassic Park (1993)",
         1423
        ],
        [
         "Star Wars: Episode VI - Return of the Jedi (1983)",
         1390
        ]
       ],
       "datasetInfos": [],
       "dbfsResultPath": null,
       "isJsonSchema": true,
       "metadata": {},
       "overflow": false,
       "plotOptions": {
        "customPlotOptions": {},
        "displayType": "table",
        "pivotAggregation": null,
        "pivotColumns": null,
        "xColumns": null,
        "yColumns": null
       },
       "removedWidgets": [],
       "schema": [
        {
         "metadata": "{}",
         "name": "title",
         "type": "\"string\""
        },
        {
         "metadata": "{}",
         "name": "cont_rating",
         "type": "\"long\""
        }
       ],
       "type": "table"
      }
     },
     "output_type": "display_data"
    }
   ],
   "source": [
    "%sql\n",
    "SELECT title, COUNT(*) AS cont_rating\n",
    "FROM gold.movies_ratings\n",
    "GROUP BY title\n",
    "ORDER BY cont_rating DESC\n",
    "LIMIT 5;\n"
   ]
  },
  {
   "cell_type": "code",
   "execution_count": 0,
   "metadata": {
    "application/vnd.databricks.v1+cell": {
     "cellMetadata": {
      "byteLimit": 2048000,
      "implicitDf": true,
      "rowLimit": 10000
     },
     "inputWidgets": {},
     "nuid": "7a0fe3fb-190e-4b2d-9847-c0b758a6f2e6",
     "showTitle": true,
     "tableResultSettingsMap": {},
     "title": "Pergunta 2 - Qual os filmes (títulos) com a melhor avaliação?"
    }
   },
   "outputs": [
    {
     "output_type": "display_data",
     "data": {
      "text/html": [
       "<style scoped>\n",
       "  .table-result-container {\n",
       "    max-height: 300px;\n",
       "    overflow: auto;\n",
       "  }\n",
       "  table, th, td {\n",
       "    border: 1px solid black;\n",
       "    border-collapse: collapse;\n",
       "  }\n",
       "  th, td {\n",
       "    padding: 5px;\n",
       "  }\n",
       "  th {\n",
       "    text-align: left;\n",
       "  }\n",
       "</style><div class='table-result-container'><table class='table-result'><thead style='background-color: white'><tr><th>title</th><th>avg_rating</th></tr></thead><tbody><tr><td>Bittersweet Motel (2000)</td><td>5.0</td></tr><tr><td>Baby, The (1973)</td><td>5.0</td></tr><tr><td>Those Who Love Me Can Take the Train (Ceux qui m'aiment prendront le train) (1998)</td><td>5.0</td></tr></tbody></table></div>"
      ]
     },
     "metadata": {
      "application/vnd.databricks.v1+output": {
       "addedWidgets": {},
       "aggData": [],
       "aggError": "",
       "aggOverflow": false,
       "aggSchema": [],
       "aggSeriesLimitReached": false,
       "aggType": "",
       "arguments": {},
       "columnCustomDisplayInfos": {},
       "data": [
        [
         "Bittersweet Motel (2000)",
         5.0
        ],
        [
         "Baby, The (1973)",
         5.0
        ],
        [
         "Those Who Love Me Can Take the Train (Ceux qui m'aiment prendront le train) (1998)",
         5.0
        ]
       ],
       "datasetInfos": [],
       "dbfsResultPath": null,
       "isJsonSchema": true,
       "metadata": {},
       "overflow": false,
       "plotOptions": {
        "customPlotOptions": {},
        "displayType": "table",
        "pivotAggregation": null,
        "pivotColumns": null,
        "xColumns": null,
        "yColumns": null
       },
       "removedWidgets": [],
       "schema": [
        {
         "metadata": "{}",
         "name": "title",
         "type": "\"string\""
        },
        {
         "metadata": "{}",
         "name": "avg_rating",
         "type": "\"double\""
        }
       ],
       "type": "table"
      }
     },
     "output_type": "display_data"
    }
   ],
   "source": [
    "%sql\n",
    "SELECT title, AVG(rating) AS avg_rating\n",
    "FROM gold.movies_ratings\n",
    "GROUP BY title\n",
    "ORDER BY avg_rating DESC\n",
    "LIMIT 3;"
   ]
  },
  {
   "cell_type": "code",
   "execution_count": 0,
   "metadata": {
    "application/vnd.databricks.v1+cell": {
     "cellMetadata": {
      "byteLimit": 2048000,
      "implicitDf": true,
      "rowLimit": 10000
     },
     "inputWidgets": {},
     "nuid": "de0a1661-cf0c-49bd-b259-eda79db48761",
     "showTitle": true,
     "tableResultSettingsMap": {},
     "title": "Pergunta 3 - Qual o gênero com a melhor avaliação?"
    }
   },
   "outputs": [
    {
     "output_type": "display_data",
     "data": {
      "text/html": [
       "<style scoped>\n",
       "  .table-result-container {\n",
       "    max-height: 300px;\n",
       "    overflow: auto;\n",
       "  }\n",
       "  table, th, td {\n",
       "    border: 1px solid black;\n",
       "    border-collapse: collapse;\n",
       "  }\n",
       "  th, td {\n",
       "    padding: 5px;\n",
       "  }\n",
       "  th {\n",
       "    text-align: left;\n",
       "  }\n",
       "</style><div class='table-result-container'><table class='table-result'><thead style='background-color: white'><tr><th>genres</th><th>avg_rating</th></tr></thead><tbody><tr><td>Sci-Fi|War</td><td>4.45468509984639</td></tr></tbody></table></div>"
      ]
     },
     "metadata": {
      "application/vnd.databricks.v1+output": {
       "addedWidgets": {},
       "aggData": [],
       "aggError": "",
       "aggOverflow": false,
       "aggSchema": [],
       "aggSeriesLimitReached": false,
       "aggType": "",
       "arguments": {},
       "columnCustomDisplayInfos": {},
       "data": [
        [
         "Sci-Fi|War",
         4.45468509984639
        ]
       ],
       "datasetInfos": [],
       "dbfsResultPath": null,
       "isJsonSchema": true,
       "metadata": {},
       "overflow": false,
       "plotOptions": {
        "customPlotOptions": {},
        "displayType": "table",
        "pivotAggregation": null,
        "pivotColumns": null,
        "xColumns": null,
        "yColumns": null
       },
       "removedWidgets": [],
       "schema": [
        {
         "metadata": "{}",
         "name": "genres",
         "type": "\"string\""
        },
        {
         "metadata": "{}",
         "name": "avg_rating",
         "type": "\"double\""
        }
       ],
       "type": "table"
      }
     },
     "output_type": "display_data"
    }
   ],
   "source": [
    "%sql\n",
    "SELECT genres, AVG(rating) AS avg_rating\n",
    "FROM gold.movies_ratings\n",
    "GROUP BY genres\n",
    "ORDER BY avg_rating DESC\n",
    "LIMIT 1;"
   ]
  },
  {
   "cell_type": "code",
   "execution_count": 0,
   "metadata": {
    "application/vnd.databricks.v1+cell": {
     "cellMetadata": {
      "byteLimit": 2048000,
      "implicitDf": true,
      "rowLimit": 10000
     },
     "inputWidgets": {},
     "nuid": "26a201b2-c321-4e40-bc12-5a6381f51ef4",
     "showTitle": true,
     "tableResultSettingsMap": {},
     "title": "Pergunta 4 - Qual o total de Filmes avaliados?"
    }
   },
   "outputs": [
    {
     "output_type": "display_data",
     "data": {
      "text/html": [
       "<style scoped>\n",
       "  .table-result-container {\n",
       "    max-height: 300px;\n",
       "    overflow: auto;\n",
       "  }\n",
       "  table, th, td {\n",
       "    border: 1px solid black;\n",
       "    border-collapse: collapse;\n",
       "  }\n",
       "  th, td {\n",
       "    padding: 5px;\n",
       "  }\n",
       "  th {\n",
       "    text-align: left;\n",
       "  }\n",
       "</style><div class='table-result-container'><table class='table-result'><thead style='background-color: white'><tr><th>total_movies</th></tr></thead><tbody><tr><td>3615</td></tr></tbody></table></div>"
      ]
     },
     "metadata": {
      "application/vnd.databricks.v1+output": {
       "addedWidgets": {},
       "aggData": [],
       "aggError": "",
       "aggOverflow": false,
       "aggSchema": [],
       "aggSeriesLimitReached": false,
       "aggType": "",
       "arguments": {},
       "columnCustomDisplayInfos": {},
       "data": [
        [
         3615
        ]
       ],
       "datasetInfos": [],
       "dbfsResultPath": null,
       "isJsonSchema": true,
       "metadata": {},
       "overflow": false,
       "plotOptions": {
        "customPlotOptions": {},
        "displayType": "table",
        "pivotAggregation": null,
        "pivotColumns": null,
        "xColumns": null,
        "yColumns": null
       },
       "removedWidgets": [],
       "schema": [
        {
         "metadata": "{}",
         "name": "total_movies",
         "type": "\"long\""
        }
       ],
       "type": "table"
      }
     },
     "output_type": "display_data"
    }
   ],
   "source": [
    "%sql\n",
    "SELECT COUNT(DISTINCT title) AS total_movies\n",
    "FROM gold.movies_ratings;"
   ]
  },
  {
   "cell_type": "code",
   "execution_count": 0,
   "metadata": {
    "application/vnd.databricks.v1+cell": {
     "cellMetadata": {
      "byteLimit": 2048000,
      "implicitDf": true,
      "rowLimit": 10000
     },
     "inputWidgets": {},
     "nuid": "7f129492-59b6-4a35-a003-cd58bd9e86ff",
     "showTitle": true,
     "tableResultSettingsMap": {},
     "title": "Pergunta 5 - Qual o total de usuários que avaliaram filmes?"
    }
   },
   "outputs": [
    {
     "output_type": "display_data",
     "data": {
      "text/html": [
       "<style scoped>\n",
       "  .table-result-container {\n",
       "    max-height: 300px;\n",
       "    overflow: auto;\n",
       "  }\n",
       "  table, th, td {\n",
       "    border: 1px solid black;\n",
       "    border-collapse: collapse;\n",
       "  }\n",
       "  th, td {\n",
       "    padding: 5px;\n",
       "  }\n",
       "  th {\n",
       "    text-align: left;\n",
       "  }\n",
       "</style><div class='table-result-container'><table class='table-result'><thead style='background-color: white'><tr><th>total_users</th></tr></thead><tbody><tr><td>2999</td></tr></tbody></table></div>"
      ]
     },
     "metadata": {
      "application/vnd.databricks.v1+output": {
       "addedWidgets": {},
       "aggData": [],
       "aggError": "",
       "aggOverflow": false,
       "aggSchema": [],
       "aggSeriesLimitReached": false,
       "aggType": "",
       "arguments": {},
       "columnCustomDisplayInfos": {},
       "data": [
        [
         2999
        ]
       ],
       "datasetInfos": [],
       "dbfsResultPath": null,
       "isJsonSchema": true,
       "metadata": {},
       "overflow": false,
       "plotOptions": {
        "customPlotOptions": {},
        "displayType": "table",
        "pivotAggregation": null,
        "pivotColumns": null,
        "xColumns": null,
        "yColumns": null
       },
       "removedWidgets": [],
       "schema": [
        {
         "metadata": "{}",
         "name": "total_users",
         "type": "\"long\""
        }
       ],
       "type": "table"
      }
     },
     "output_type": "display_data"
    }
   ],
   "source": [
    "%sql\n",
    "SELECT COUNT(DISTINCT userId) AS total_users\n",
    "FROM gold.movies_ratings;"
   ]
  },
  {
   "cell_type": "code",
   "execution_count": 0,
   "metadata": {
    "application/vnd.databricks.v1+cell": {
     "cellMetadata": {
      "byteLimit": 2048000,
      "implicitDf": true,
      "rowLimit": 10000
     },
     "inputWidgets": {},
     "nuid": "94be2a2d-d51f-4be6-a079-6cee4bef161a",
     "showTitle": true,
     "tableResultSettingsMap": {},
     "title": "Pergunta 6 - Qual o total de avaliações por ano?"
    }
   },
   "outputs": [
    {
     "output_type": "display_data",
     "data": {
      "text/html": [
       "<style scoped>\n",
       "  .table-result-container {\n",
       "    max-height: 300px;\n",
       "    overflow: auto;\n",
       "  }\n",
       "  table, th, td {\n",
       "    border: 1px solid black;\n",
       "    border-collapse: collapse;\n",
       "  }\n",
       "  th, td {\n",
       "    padding: 5px;\n",
       "  }\n",
       "  th {\n",
       "    text-align: left;\n",
       "  }\n",
       "</style><div class='table-result-container'><table class='table-result'><thead style='background-color: white'><tr><th>year</th><th>total_ratings</th></tr></thead><tbody><tr><td>2000</td><td>424406</td></tr><tr><td>2001</td><td>47080</td></tr><tr><td>2002</td><td>14894</td></tr><tr><td>2003</td><td>1270</td></tr></tbody></table></div>"
      ]
     },
     "metadata": {
      "application/vnd.databricks.v1+output": {
       "addedWidgets": {},
       "aggData": [],
       "aggError": "",
       "aggOverflow": false,
       "aggSchema": [],
       "aggSeriesLimitReached": false,
       "aggType": "",
       "arguments": {},
       "columnCustomDisplayInfos": {},
       "data": [
        [
         2000,
         424406
        ],
        [
         2001,
         47080
        ],
        [
         2002,
         14894
        ],
        [
         2003,
         1270
        ]
       ],
       "datasetInfos": [],
       "dbfsResultPath": null,
       "isJsonSchema": true,
       "metadata": {},
       "overflow": false,
       "plotOptions": {
        "customPlotOptions": {},
        "displayType": "table",
        "pivotAggregation": null,
        "pivotColumns": null,
        "xColumns": null,
        "yColumns": null
       },
       "removedWidgets": [],
       "schema": [
        {
         "metadata": "{}",
         "name": "year",
         "type": "\"integer\""
        },
        {
         "metadata": "{}",
         "name": "total_ratings",
         "type": "\"long\""
        }
       ],
       "type": "table"
      }
     },
     "output_type": "display_data"
    }
   ],
   "source": [
    "%sql\n",
    "SELECT YEAR(timestamp) AS year, COUNT(*) AS total_ratings\n",
    "FROM gold.movies_ratings\n",
    "GROUP BY YEAR(timestamp)\n",
    "ORDER BY year;"
   ]
  },
  {
   "cell_type": "code",
   "execution_count": 0,
   "metadata": {
    "application/vnd.databricks.v1+cell": {
     "cellMetadata": {
      "byteLimit": 2048000,
      "implicitDf": true,
      "rowLimit": 10000
     },
     "inputWidgets": {},
     "nuid": "aac34e7b-df90-4dbb-b137-61ac07bda1fb",
     "showTitle": true,
     "tableResultSettingsMap": {},
     "title": "Pergunta 7 - Quais os filmes com as piores avaliações?"
    }
   },
   "outputs": [
    {
     "output_type": "display_data",
     "data": {
      "text/html": [
       "<style scoped>\n",
       "  .table-result-container {\n",
       "    max-height: 300px;\n",
       "    overflow: auto;\n",
       "  }\n",
       "  table, th, td {\n",
       "    border: 1px solid black;\n",
       "    border-collapse: collapse;\n",
       "  }\n",
       "  th, td {\n",
       "    padding: 5px;\n",
       "  }\n",
       "  th {\n",
       "    text-align: left;\n",
       "  }\n",
       "</style><div class='table-result-container'><table class='table-result'><thead style='background-color: white'><tr><th>title</th><th>avg_rating</th></tr></thead><tbody><tr><td>Autopsy (Macchie Solari) (1975)</td><td>1.0</td></tr><tr><td>Better Living (1998)</td><td>1.0</td></tr><tr><td>Big Squeeze, The (1996)</td><td>1.0</td></tr><tr><td>Blood Spattered Bride, The (La Novia Ensangrentada) (1972)</td><td>1.0</td></tr><tr><td>Bloody Child, The (1996)</td><td>1.0</td></tr><tr><td>Brenda Starr (1989)</td><td>1.0</td></tr><tr><td>Carnosaur 3: Primal Species (1996)</td><td>1.0</td></tr><tr><td>Cheetah (1989)</td><td>1.0</td></tr><tr><td>Diebinnen (1995)</td><td>1.0</td></tr><tr><td>Frogs for Snakes (1998)</td><td>1.0</td></tr></tbody></table></div>"
      ]
     },
     "metadata": {
      "application/vnd.databricks.v1+output": {
       "addedWidgets": {},
       "aggData": [],
       "aggError": "",
       "aggOverflow": false,
       "aggSchema": [],
       "aggSeriesLimitReached": false,
       "aggType": "",
       "arguments": {},
       "columnCustomDisplayInfos": {},
       "data": [
        [
         "Autopsy (Macchie Solari) (1975)",
         1.0
        ],
        [
         "Better Living (1998)",
         1.0
        ],
        [
         "Big Squeeze, The (1996)",
         1.0
        ],
        [
         "Blood Spattered Bride, The (La Novia Ensangrentada) (1972)",
         1.0
        ],
        [
         "Bloody Child, The (1996)",
         1.0
        ],
        [
         "Brenda Starr (1989)",
         1.0
        ],
        [
         "Carnosaur 3: Primal Species (1996)",
         1.0
        ],
        [
         "Cheetah (1989)",
         1.0
        ],
        [
         "Diebinnen (1995)",
         1.0
        ],
        [
         "Frogs for Snakes (1998)",
         1.0
        ]
       ],
       "datasetInfos": [],
       "dbfsResultPath": null,
       "isJsonSchema": true,
       "metadata": {},
       "overflow": false,
       "plotOptions": {
        "customPlotOptions": {},
        "displayType": "table",
        "pivotAggregation": null,
        "pivotColumns": null,
        "xColumns": null,
        "yColumns": null
       },
       "removedWidgets": [],
       "schema": [
        {
         "metadata": "{}",
         "name": "title",
         "type": "\"string\""
        },
        {
         "metadata": "{}",
         "name": "avg_rating",
         "type": "\"double\""
        }
       ],
       "type": "table"
      }
     },
     "output_type": "display_data"
    }
   ],
   "source": [
    "%sql\n",
    "SELECT title, AVG(rating) AS avg_rating\n",
    "FROM gold.movies_ratings\n",
    "GROUP BY title\n",
    "ORDER BY avg_rating, title ASC\n",
    "LIMIT 10;"
   ]
  }
 ],
 "metadata": {
  "application/vnd.databricks.v1+notebook": {
   "computePreferences": null,
   "dashboards": [],
   "environmentMetadata": {
    "base_environment": "",
    "environment_version": "1"
   },
   "inputWidgetPreferences": null,
   "language": "python",
   "notebookMetadata": {
    "mostRecentlyExecutedCommandWithImplicitDF": {
     "commandId": 123683657916903,
     "dataframes": [
      "_sqldf"
     ]
    },
    "pythonIndentUnit": 4
   },
   "notebookName": "Avaliação de Filmes 2025-04-07 10:59:00",
   "widgets": {}
  }
 },
 "nbformat": 4,
 "nbformat_minor": 0
}
